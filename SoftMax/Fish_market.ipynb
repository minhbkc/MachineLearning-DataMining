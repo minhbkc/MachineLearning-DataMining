{
 "cells": [
  {
   "cell_type": "code",
   "execution_count": 109,
   "metadata": {},
   "outputs": [],
   "source": [
    "from sklearn.datasets import load_iris\n",
    "from sklearn.model_selection import train_test_split\n",
    "from sklearn import preprocessing as pre\n",
    "from sklearn.preprocessing import StandardScaler, MinMaxScaler\n",
    "import numpy as np\n",
    "import matplotlib.pyplot as plt\n",
    "import pandas as pd"
   ]
  },
  {
   "cell_type": "code",
   "execution_count": 110,
   "metadata": {},
   "outputs": [],
   "source": [
    "np.random.seed(42)"
   ]
  },
  {
   "cell_type": "code",
   "execution_count": 111,
   "metadata": {},
   "outputs": [
    {
     "data": {
      "text/html": [
       "<div>\n",
       "<style scoped>\n",
       "    .dataframe tbody tr th:only-of-type {\n",
       "        vertical-align: middle;\n",
       "    }\n",
       "\n",
       "    .dataframe tbody tr th {\n",
       "        vertical-align: top;\n",
       "    }\n",
       "\n",
       "    .dataframe thead th {\n",
       "        text-align: right;\n",
       "    }\n",
       "</style>\n",
       "<table border=\"1\" class=\"dataframe\">\n",
       "  <thead>\n",
       "    <tr style=\"text-align: right;\">\n",
       "      <th></th>\n",
       "      <th>Weight</th>\n",
       "      <th>Length1</th>\n",
       "      <th>Length2</th>\n",
       "      <th>Length3</th>\n",
       "      <th>Height</th>\n",
       "      <th>Width</th>\n",
       "      <th>Species</th>\n",
       "    </tr>\n",
       "  </thead>\n",
       "  <tbody>\n",
       "    <tr>\n",
       "      <th>0</th>\n",
       "      <td>90.0</td>\n",
       "      <td>16.3</td>\n",
       "      <td>17.7</td>\n",
       "      <td>19.8</td>\n",
       "      <td>7.4052</td>\n",
       "      <td>2.6730</td>\n",
       "      <td>Parkki</td>\n",
       "    </tr>\n",
       "    <tr>\n",
       "      <th>1</th>\n",
       "      <td>290.0</td>\n",
       "      <td>24.0</td>\n",
       "      <td>26.0</td>\n",
       "      <td>29.2</td>\n",
       "      <td>8.8768</td>\n",
       "      <td>4.4968</td>\n",
       "      <td>Roach</td>\n",
       "    </tr>\n",
       "    <tr>\n",
       "      <th>2</th>\n",
       "      <td>850.0</td>\n",
       "      <td>36.9</td>\n",
       "      <td>40.0</td>\n",
       "      <td>42.3</td>\n",
       "      <td>11.9286</td>\n",
       "      <td>7.1064</td>\n",
       "      <td>Perch</td>\n",
       "    </tr>\n",
       "    <tr>\n",
       "      <th>3</th>\n",
       "      <td>300.0</td>\n",
       "      <td>34.8</td>\n",
       "      <td>37.3</td>\n",
       "      <td>39.8</td>\n",
       "      <td>6.2884</td>\n",
       "      <td>4.0198</td>\n",
       "      <td>Pike</td>\n",
       "    </tr>\n",
       "    <tr>\n",
       "      <th>4</th>\n",
       "      <td>265.0</td>\n",
       "      <td>25.4</td>\n",
       "      <td>27.5</td>\n",
       "      <td>28.9</td>\n",
       "      <td>7.0516</td>\n",
       "      <td>4.3350</td>\n",
       "      <td>Perch</td>\n",
       "    </tr>\n",
       "  </tbody>\n",
       "</table>\n",
       "</div>"
      ],
      "text/plain": [
       "   Weight  Length1  Length2  Length3   Height   Width Species\n",
       "0    90.0     16.3     17.7     19.8   7.4052  2.6730  Parkki\n",
       "1   290.0     24.0     26.0     29.2   8.8768  4.4968   Roach\n",
       "2   850.0     36.9     40.0     42.3  11.9286  7.1064   Perch\n",
       "3   300.0     34.8     37.3     39.8   6.2884  4.0198    Pike\n",
       "4   265.0     25.4     27.5     28.9   7.0516  4.3350   Perch"
      ]
     },
     "execution_count": 111,
     "metadata": {},
     "output_type": "execute_result"
    }
   ],
   "source": [
    "fish_train_dataset = pd.read_csv(\"train_fish.csv\")\n",
    "fish_train_dataset.head()"
   ]
  },
  {
   "cell_type": "code",
   "execution_count": 112,
   "metadata": {},
   "outputs": [
    {
     "data": {
      "text/html": [
       "<div>\n",
       "<style scoped>\n",
       "    .dataframe tbody tr th:only-of-type {\n",
       "        vertical-align: middle;\n",
       "    }\n",
       "\n",
       "    .dataframe tbody tr th {\n",
       "        vertical-align: top;\n",
       "    }\n",
       "\n",
       "    .dataframe thead th {\n",
       "        text-align: right;\n",
       "    }\n",
       "</style>\n",
       "<table border=\"1\" class=\"dataframe\">\n",
       "  <thead>\n",
       "    <tr style=\"text-align: right;\">\n",
       "      <th></th>\n",
       "      <th>Weight</th>\n",
       "      <th>Length1</th>\n",
       "      <th>Length2</th>\n",
       "      <th>Length3</th>\n",
       "      <th>Height</th>\n",
       "      <th>Width</th>\n",
       "      <th>Species</th>\n",
       "    </tr>\n",
       "  </thead>\n",
       "  <tbody>\n",
       "    <tr>\n",
       "      <th>0</th>\n",
       "      <td>250.0</td>\n",
       "      <td>25.9</td>\n",
       "      <td>28.0</td>\n",
       "      <td>29.4</td>\n",
       "      <td>7.8204</td>\n",
       "      <td>4.2042</td>\n",
       "      <td>Perch</td>\n",
       "    </tr>\n",
       "    <tr>\n",
       "      <th>1</th>\n",
       "      <td>273.0</td>\n",
       "      <td>23.0</td>\n",
       "      <td>25.0</td>\n",
       "      <td>28.0</td>\n",
       "      <td>11.0880</td>\n",
       "      <td>4.1440</td>\n",
       "      <td>Parkki</td>\n",
       "    </tr>\n",
       "    <tr>\n",
       "      <th>2</th>\n",
       "      <td>13.4</td>\n",
       "      <td>11.7</td>\n",
       "      <td>12.4</td>\n",
       "      <td>13.5</td>\n",
       "      <td>2.4300</td>\n",
       "      <td>1.2690</td>\n",
       "      <td>Smelt</td>\n",
       "    </tr>\n",
       "    <tr>\n",
       "      <th>3</th>\n",
       "      <td>390.0</td>\n",
       "      <td>27.6</td>\n",
       "      <td>30.0</td>\n",
       "      <td>35.0</td>\n",
       "      <td>12.6700</td>\n",
       "      <td>4.6900</td>\n",
       "      <td>Bream</td>\n",
       "    </tr>\n",
       "    <tr>\n",
       "      <th>4</th>\n",
       "      <td>40.0</td>\n",
       "      <td>13.8</td>\n",
       "      <td>15.0</td>\n",
       "      <td>16.0</td>\n",
       "      <td>3.8240</td>\n",
       "      <td>2.4320</td>\n",
       "      <td>Perch</td>\n",
       "    </tr>\n",
       "  </tbody>\n",
       "</table>\n",
       "</div>"
      ],
      "text/plain": [
       "   Weight  Length1  Length2  Length3   Height   Width Species\n",
       "0   250.0     25.9     28.0     29.4   7.8204  4.2042   Perch\n",
       "1   273.0     23.0     25.0     28.0  11.0880  4.1440  Parkki\n",
       "2    13.4     11.7     12.4     13.5   2.4300  1.2690   Smelt\n",
       "3   390.0     27.6     30.0     35.0  12.6700  4.6900   Bream\n",
       "4    40.0     13.8     15.0     16.0   3.8240  2.4320   Perch"
      ]
     },
     "execution_count": 112,
     "metadata": {},
     "output_type": "execute_result"
    }
   ],
   "source": [
    "fish_test_dataset = pd.read_csv(\"test_fish.csv\")\n",
    "fish_test_dataset.head()"
   ]
  },
  {
   "cell_type": "code",
   "execution_count": 113,
   "metadata": {},
   "outputs": [],
   "source": [
    "classes = ['Bream', 'Roach', 'Whitefish', 'Parkki', 'Perch', 'Pike', 'Smelt']"
   ]
  },
  {
   "cell_type": "code",
   "execution_count": 114,
   "metadata": {},
   "outputs": [],
   "source": [
    "def encoding_label(dataset):\n",
    "    species = []\n",
    "    \n",
    "    for fish_type in dataset[\"Species\"]:\n",
    "        species.append(classes.index(fish_type))\n",
    "    \n",
    "    return pd.Series(species)"
   ]
  },
  {
   "cell_type": "code",
   "execution_count": 115,
   "metadata": {},
   "outputs": [],
   "source": [
    "fish_train_dataset[\"Species\"] = encoding_label(fish_train_dataset)\n",
    "fish_test_dataset[\"Species\"] = encoding_label(fish_test_dataset)"
   ]
  },
  {
   "cell_type": "code",
   "execution_count": 116,
   "metadata": {},
   "outputs": [],
   "source": [
    "from sklearn.preprocessing import StandardScaler\n",
    " \n",
    "X_train = fish_train_dataset.drop([\"Species\"], axis=1)\n",
    "y_train = fish_train_dataset[\"Species\"]\n",
    "X_test = fish_test_dataset.drop([\"Species\"], axis=1)\n",
    "y_test = fish_test_dataset[\"Species\"]"
   ]
  },
  {
   "cell_type": "code",
   "execution_count": 117,
   "metadata": {},
   "outputs": [],
   "source": [
    "scaler = StandardScaler()\n",
    "transform = scaler.fit(X_train)\n",
    "X_train = transform.transform(X_train)\n",
    "X_test = transform.transform(X_test)"
   ]
  },
  {
   "cell_type": "code",
   "execution_count": 118,
   "metadata": {},
   "outputs": [],
   "source": [
    "def softmax(Z):\n",
    "    \"\"\"\n",
    "    Compute softmax values for each sets of scores in Z.\n",
    "    each column of Z is a set of score.    \n",
    "    \"\"\"\n",
    "    e_Z = np.exp(Z - np.max(Z, axis = 0, keepdims = True))\n",
    "    A = e_Z / e_Z.sum(axis = 0)\n",
    "    return A"
   ]
  },
  {
   "cell_type": "code",
   "execution_count": 119,
   "metadata": {},
   "outputs": [],
   "source": [
    "def reshape_data(dataList):\n",
    "    re = np.zeros((dataList.shape[1], dataList.shape[0]))\n",
    "    \n",
    "    for idx, data in enumerate(dataList):\n",
    "        re[:, idx] = data\n",
    "    \n",
    "    return re.astype(np.float32)"
   ]
  },
  {
   "cell_type": "code",
   "execution_count": 120,
   "metadata": {},
   "outputs": [],
   "source": [
    "# One hot coding \n",
    "def convert_to_one_hot(y, C):\n",
    "    re = np.zeros((C, len(y)))\n",
    "    \n",
    "    for idx, label in enumerate(y):\n",
    "        re[:, idx][label] = 1\n",
    "    \n",
    "    return re.astype(np.uint8)"
   ]
  },
  {
   "cell_type": "code",
   "execution_count": 121,
   "metadata": {},
   "outputs": [],
   "source": [
    "def softmax_regression(X, y, W_init, eta, tol = 1e-4, max_count = 80000):\n",
    "    W = [W_init]    \n",
    "    C = W_init.shape[1]\n",
    "    Y = convert_to_one_hot(y, C)\n",
    "    it = 0\n",
    "    N = X.shape[1]\n",
    "    d = X.shape[0]\n",
    "    \n",
    "    count = 0\n",
    "    check_w_after = 20\n",
    "    while count < max_count:\n",
    "        # mix data \n",
    "        mix_id = np.random.permutation(N)\n",
    "        for i in mix_id:\n",
    "            xi = X[:, i].reshape(d, 1)\n",
    "            yi = Y[:, i].reshape(C, 1)\n",
    "            ai = softmax(np.dot(W[-1].T, xi))\n",
    "            W_new = W[-1] + eta*xi.dot((yi - ai).T)\n",
    "            count += 1\n",
    "            # stopping criteria\n",
    "            if count%check_w_after == 0:                \n",
    "                if np.linalg.norm(W_new - W[-check_w_after]) < tol:\n",
    "                    return W\n",
    "            W.append(W_new)\n",
    "    return W"
   ]
  },
  {
   "cell_type": "code",
   "execution_count": 122,
   "metadata": {},
   "outputs": [],
   "source": [
    "def pred(W, X):\n",
    "    A = softmax(W.T.dot(X))\n",
    "    return np.argmax(A, axis = 0)"
   ]
  },
  {
   "cell_type": "code",
   "execution_count": 123,
   "metadata": {},
   "outputs": [],
   "source": [
    "C = 7"
   ]
  },
  {
   "cell_type": "code",
   "execution_count": 124,
   "metadata": {},
   "outputs": [],
   "source": [
    "X_train = reshape_data(X_train)"
   ]
  },
  {
   "cell_type": "code",
   "execution_count": 125,
   "metadata": {},
   "outputs": [
    {
     "name": "stdout",
     "output_type": "stream",
     "text": [
      "[[-9.29964203e+00 -6.93879485e+00 -1.29766350e+01  5.43935503e+00\n",
      "   8.18783390e+00  3.29068572e+00  1.59372879e+01]\n",
      " [-4.76947186e+00  1.61796370e+00 -1.61912107e+01 -4.20567776e-02\n",
      "   8.64167543e-01  1.13050213e+01  5.45564175e+00]\n",
      " [-3.56291422e+00 -3.58278384e+01  3.57877201e+00 -3.08800873e+00\n",
      "   2.65904645e+01  9.51255709e+00 -1.04350035e+00]\n",
      " [ 1.66630792e+01  1.83595000e+01  4.05757149e+00 -1.44141840e+01\n",
      "  -5.01212363e+01  1.15883086e+01  1.10752091e+01]\n",
      " [ 1.97759035e+01  3.15030361e+00  6.93128766e+00  2.04924467e+01\n",
      "  -1.22704528e+01 -1.41997572e+01 -2.37701556e+01]\n",
      " [-5.25029012e+00  1.12543127e+01  1.55191486e+01 -9.91227964e+00\n",
      "   1.67953769e+01 -1.90319228e+01 -1.25674858e+01]]\n"
     ]
    }
   ],
   "source": [
    "eta = 0.5\n",
    "d = X_train.shape[0]\n",
    "W_init = np.random.randn(d, C)\n",
    "W = softmax_regression(X_train, y_train, W_init, eta)\n",
    "print(W[-1])"
   ]
  },
  {
   "cell_type": "code",
   "execution_count": 126,
   "metadata": {},
   "outputs": [],
   "source": [
    "from sklearn.metrics import classification_report\n",
    "from sklearn.linear_model import LogisticRegression"
   ]
  },
  {
   "cell_type": "code",
   "execution_count": 127,
   "metadata": {},
   "outputs": [],
   "source": [
    "X = reshape_data(X_test)"
   ]
  },
  {
   "cell_type": "code",
   "execution_count": 128,
   "metadata": {},
   "outputs": [],
   "source": [
    "test_pred = pred(W[-1], X)"
   ]
  },
  {
   "cell_type": "code",
   "execution_count": 129,
   "metadata": {},
   "outputs": [
    {
     "name": "stdout",
     "output_type": "stream",
     "text": [
      "0     4\n",
      "1     3\n",
      "2     6\n",
      "3     0\n",
      "4     4\n",
      "5     4\n",
      "6     0\n",
      "7     4\n",
      "8     3\n",
      "9     0\n",
      "10    0\n",
      "11    1\n",
      "12    4\n",
      "13    1\n",
      "14    1\n",
      "15    4\n",
      "16    4\n",
      "17    0\n",
      "18    2\n",
      "19    4\n",
      "20    5\n",
      "21    5\n",
      "22    3\n",
      "23    2\n",
      "24    6\n",
      "25    0\n",
      "26    0\n",
      "27    3\n",
      "28    1\n",
      "29    1\n",
      "30    0\n",
      "31    4\n",
      "32    4\n",
      "33    4\n",
      "34    1\n",
      "35    1\n",
      "36    0\n",
      "37    0\n",
      "38    4\n",
      "39    0\n",
      "40    4\n",
      "41    1\n",
      "42    4\n",
      "43    4\n",
      "44    1\n",
      "45    0\n",
      "46    4\n",
      "47    4\n",
      "Name: Species, dtype: int64\n",
      "[4 3 6 0 4 4 0 4 3 0 0 1 0 2 2 4 4 0 4 4 5 5 3 6 4 0 0 3 1 1 0 4 4 4 1 1 0\n",
      " 0 4 0 4 1 4 4 4 0 4 4]\n",
      "              precision    recall  f1-score   support\n",
      "\n",
      "           0       0.92      1.00      0.96        12\n",
      "           1       1.00      0.67      0.80         9\n",
      "           2       0.00      0.00      0.00         2\n",
      "           3       1.00      1.00      1.00         4\n",
      "           4       0.84      0.94      0.89        17\n",
      "           5       1.00      1.00      1.00         2\n",
      "           6       0.50      0.50      0.50         2\n",
      "\n",
      "    accuracy                           0.85        48\n",
      "   macro avg       0.75      0.73      0.74        48\n",
      "weighted avg       0.86      0.85      0.85        48\n",
      "\n"
     ]
    }
   ],
   "source": [
    "#softmax regression\n",
    "print(y_test)\n",
    "print(test_pred)\n",
    "print(classification_report(y_test, test_pred))"
   ]
  }
 ],
 "metadata": {
  "kernelspec": {
   "display_name": "Python 3.8.5 64-bit",
   "language": "python",
   "name": "python3"
  },
  "language_info": {
   "codemirror_mode": {
    "name": "ipython",
    "version": 3
   },
   "file_extension": ".py",
   "mimetype": "text/x-python",
   "name": "python",
   "nbconvert_exporter": "python",
   "pygments_lexer": "ipython3",
   "version": "3.8.5"
  },
  "orig_nbformat": 4,
  "vscode": {
   "interpreter": {
    "hash": "a4868653bb6f8972e87e4c446ab8a445a15b25dedb8594cc74c480f8152ea86a"
   }
  }
 },
 "nbformat": 4,
 "nbformat_minor": 2
}
